{
 "cells": [
  {
   "cell_type": "code",
   "execution_count": 64,
   "metadata": {},
   "outputs": [],
   "source": [
    "import skvideo.io\n",
    "import skimage\n",
    "import numpy as np\n",
    "import matplotlib.pyplot as plt"
   ]
  },
  {
   "cell_type": "code",
   "execution_count": 102,
   "metadata": {},
   "outputs": [],
   "source": [
    "videogen=skvideo.io.vreader(\"videoplayback.mp4\")\n",
    "field=0\n",
    "count=0\n",
    "inpos=0\n",
    "final_video=[]\n",
    "final_video=np.array(final_video,dtype=\"uint8\")\n",
    "startpos=[]\n",
    "clips=0\n",
    "max_clips=10\n",
    "for frame in videogen:\n",
    "    count+=1\n",
    "#     plt.figure(clear=True)\n",
    "    x,y=np.histogram(np.sum(frame,axis=-1).flatten()/3,255)\n",
    "#     plt.show()\n",
    "    if(np.max(x[120:170]>2000) and np.max(x[200:250])>1000):\n",
    "        if(inpos==0):\n",
    "            startpos=[]\n",
    "            inpos=1\n",
    "            \n",
    "        else:\n",
    "            inpos+=1\n",
    "        startpos.append(frame)\n",
    "    else:\n",
    "        if(inpos>0):\n",
    "            if(inpos>20):\n",
    "                if(len(final_video)==0):\n",
    "                    final_video=np.array(startpos)\n",
    "#                 print(np.array(startpos).shape)\n",
    "                final_video=np.append(final_video,np.array(startpos),axis=0)\n",
    "#                 print(final_video.shape)\n",
    "                clips+=1\n",
    "            else:\n",
    "                startpos=[]\n",
    "            \n",
    "        inpos=0\n",
    "        continue\n",
    "    if(clips==10):\n",
    "        break"
   ]
  },
  {
   "cell_type": "code",
   "execution_count": 105,
   "metadata": {},
   "outputs": [],
   "source": [
    "skvideo.io.vwrite(\"final_video.mp4\",final_video)"
   ]
  },
  {
   "cell_type": "code",
   "execution_count": null,
   "metadata": {},
   "outputs": [],
   "source": []
  },
  {
   "cell_type": "code",
   "execution_count": null,
   "metadata": {},
   "outputs": [],
   "source": []
  }
 ],
 "metadata": {
  "kernelspec": {
   "display_name": "Python 3",
   "language": "python",
   "name": "python3"
  },
  "language_info": {
   "codemirror_mode": {
    "name": "ipython",
    "version": 3
   },
   "file_extension": ".py",
   "mimetype": "text/x-python",
   "name": "python",
   "nbconvert_exporter": "python",
   "pygments_lexer": "ipython3",
   "version": "3.6.8"
  }
 },
 "nbformat": 4,
 "nbformat_minor": 2
}
