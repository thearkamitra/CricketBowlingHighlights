{
 "cells": [
  {
   "cell_type": "code",
   "execution_count": 135,
   "metadata": {},
   "outputs": [],
   "source": [
    "import numpy as np\n",
    "import pandas as pd\n",
    "\n",
    "\n",
    "\n",
    "file1=open(\"data2_19.csv\")\n",
    "data=file1.readlines()\n",
    "\n",
    "data=data[1:]\n",
    "labels=[]\n",
    "values=[]\n",
    "for i in range(len(data)):\n",
    "    temp=data[i]\n",
    "    temp=temp[1:-2]\n",
    "    temp=temp.split(\",\")\n",
    "    labels.append(temp[0])\n",
    "    values.append(temp[1:])\n",
    "values=np.array(values,dtype=int)\n",
    "labels=np.array(labels,dtype=int)\n",
    "values=values.reshape(-1,6)\n",
    "labels=labels.reshape(-1,1)\n",
    "file1.close()\n",
    "\n",
    "\n",
    "\n",
    "look_up=np.zeros((2,6,5),dtype=float)\n",
    "for i in range(len(labels)):\n",
    "    for j in range(6):\n",
    "        look_up[labels[i][0]][j][values[i][j]-1]+=1\n",
    "\n",
    "neg=np.sum(look_up,axis=2)[:,0][0]\n",
    "pos=np.sum(look_up,axis=2)[:,0][1]\n",
    "look_up[0]=(look_up[0]+1)/(neg+5)\n",
    "look_up[1]=(look_up[1]+1)/(pos+5)\n",
    "p_neg=neg/(pos+neg)\n",
    "p_pos=1-p_neg\n",
    "\n",
    "file2=open(\"test2_19.csv\")\n",
    "\n",
    "data=file2.readlines()\n",
    "data=data[1:]\n",
    "labels=[]\n",
    "values=[]\n",
    "for i in range(len(data)):\n",
    "    temp=data[i]\n",
    "    temp=temp[1:-2]\n",
    "    temp=temp.split(\",\")\n",
    "    labels.append(temp[0])\n",
    "    values.append(temp[1:])\n",
    "values=np.array(values,dtype=int)\n",
    "labels=np.array(labels,dtype=int)\n",
    "values=values.reshape(-1,6)\n",
    "labels=labels.reshape(-1,1)\n",
    "file2.close()\n",
    "\n",
    "correct=0\n",
    "\n",
    "for i in range(len(labels)):\n",
    "    p=p_pos\n",
    "    n=p_neg\n",
    "    for j in range(6):\n",
    "        p=p*look_up[1][j][values[i][j]-1]\n",
    "        n=n*look_up[0][j][values[i][j]-1]\n",
    "    if(p>=n):\n",
    "        answer=1\n",
    "    else:\n",
    "        answer=0\n",
    "    if(answer==labels[i][0]):\n",
    "        correct+=1\n",
    "\n"
   ]
  },
  {
   "cell_type": "code",
   "execution_count": 136,
   "metadata": {},
   "outputs": [
    {
     "data": {
      "text/plain": [
       "0.35714285714285715"
      ]
     },
     "execution_count": 136,
     "metadata": {},
     "output_type": "execute_result"
    }
   ],
   "source": [
    "correct/len(labels)"
   ]
  },
  {
   "cell_type": "code",
   "execution_count": 138,
   "metadata": {},
   "outputs": [],
   "source": [
    "file2=open(\"data2_19.csv\")\n",
    "\n",
    "data=file2.readlines()\n",
    "data=data[1:]\n",
    "labels=[]\n",
    "values=[]\n",
    "for i in range(len(data)):\n",
    "    temp=data[i]\n",
    "    temp=temp[1:-2]\n",
    "    temp=temp.split(\",\")\n",
    "    labels.append(temp[0])\n",
    "    values.append(temp[1:])\n",
    "values=np.array(values,dtype=int)\n",
    "labels=np.array(labels,dtype=int)\n",
    "values=values.reshape(-1,6)\n",
    "labels=labels.reshape(-1,1)\n",
    "file2.close()\n",
    "\n",
    "correct=0\n",
    "\n",
    "for i in range(len(labels)):\n",
    "    p=p_pos\n",
    "    n=p_neg\n",
    "    for j in range(6):\n",
    "        p=p*look_up[1][j][values[i][j]-1]\n",
    "        n=n*look_up[0][j][values[i][j]-1]\n",
    "    if(p>=n):\n",
    "        answer=1\n",
    "    else:\n",
    "        answer=0\n",
    "    if(answer==labels[i][0]):\n",
    "        correct+=1\n"
   ]
  },
  {
   "cell_type": "code",
   "execution_count": 139,
   "metadata": {},
   "outputs": [
    {
     "data": {
      "text/plain": [
       "0.6976744186046512"
      ]
     },
     "execution_count": 139,
     "metadata": {},
     "output_type": "execute_result"
    }
   ],
   "source": [
    "correct/len(labels)"
   ]
  },
  {
   "cell_type": "code",
   "execution_count": null,
   "metadata": {},
   "outputs": [],
   "source": []
  }
 ],
 "metadata": {
  "kernelspec": {
   "display_name": "Python 3",
   "language": "python",
   "name": "python3"
  },
  "language_info": {
   "codemirror_mode": {
    "name": "ipython",
    "version": 3
   },
   "file_extension": ".py",
   "mimetype": "text/x-python",
   "name": "python",
   "nbconvert_exporter": "python",
   "pygments_lexer": "ipython3",
   "version": "3.6.8"
  }
 },
 "nbformat": 4,
 "nbformat_minor": 2
}
